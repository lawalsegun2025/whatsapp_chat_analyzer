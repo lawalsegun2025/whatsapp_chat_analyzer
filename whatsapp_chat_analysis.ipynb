{
 "cells": [
  {
   "cell_type": "markdown",
   "id": "14a74ac4",
   "metadata": {},
   "source": [
    "# WhatsApp Chat Analysis"
   ]
  },
  {
   "cell_type": "code",
   "execution_count": 1,
   "id": "5b17a0d5",
   "metadata": {},
   "outputs": [],
   "source": [
    "# Import modules and libriaries\n",
    "import pandas as pd \n",
    "import numpy as np \n",
    "import seaborn as sns \n",
    "import matplotlib.pyplot as plt \n",
    "import re \n",
    "import datetime as dt \n",
    "from urlextract import URLExtract # used to extract url's in a string\n",
    "from collections import Counter\n",
    "from wordcloud import WordCloud\n",
    "import string \n",
    "import nltk\n",
    "import emoji\n",
    "\n",
    "\n",
    "pd.set_option('display.max_colwidth', 100)\n",
    "\n",
    "stopwords = nltk.corpus.stopwords.words(\"english\")\n",
    "wn = nltk.WordNetLemmatizer()\n",
    "punct = string.punctuation\n",
    "\n",
    "%matplotlib inline"
   ]
  },
  {
   "cell_type": "markdown",
   "id": "c6c2096e",
   "metadata": {},
   "source": [
    "## Data (text) Preprocessing\n",
    "\n",
    "### Import Text Data\n",
    "\n",
    "We will now import the text file which contains the whatsapp group chat in read mode using utf-8 encoding."
   ]
  },
  {
   "cell_type": "code",
   "execution_count": 2,
   "id": "c7cbcdfa",
   "metadata": {},
   "outputs": [],
   "source": [
    "def rawToDf(file, key):\n",
    "    split_formats = {\n",
    "        '12hr' : '\\d{1,2}/\\d{1,2}/\\d{2,4},\\s\\d{1,2}:\\d{2}\\s[APap][mM]\\s-\\s',\n",
    "        '24hr' : '\\d{1,2}/\\d{1,2}/\\d{2,4},\\s\\d{1,2}:\\d{2}\\s-\\s',\n",
    "        'custom' : ''\n",
    "    }\n",
    "    datetime_formats = {\n",
    "        '12hr' : '%m/%d/%y, %I:%M %p - ',\n",
    "        '24hr' : '%m/%d/%y, %H:%M - ',\n",
    "        'custom': ''\n",
    "    }\n",
    "    \n",
    "    with open(file, 'r', encoding=\"utf-8\") as raw_data:\n",
    "        raw_string = ' '.join(raw_data.read().split('\\n')) # converting the list split by newline char. as one whole string as there can be multi-line messages\n",
    "        user_msg = re.split(split_formats[key], raw_string) [1:] # splits at all the date-time pattern, resulting in list of all the messages with user names\n",
    "        date_time = re.findall(split_formats[key], raw_string) # finds all the date-time patterns\n",
    "        \n",
    "        df = pd.DataFrame({'Date': date_time, 'user_msg': user_msg}) # exporting it to a df\n",
    "        \n",
    "    # converting date-time pattern which is of type String to type datetime,\n",
    "    # format is to be specified for the whole string where the placeholders are extracted by the method \n",
    "    df['Date'] = pd.to_datetime(df['Date'], format=datetime_formats[key])\n",
    "    \n",
    "    # split user and msg \n",
    "    usernames = []\n",
    "    msgs = []\n",
    "    for i in df['user_msg']:\n",
    "        a = re.split('([\\w\\W]+?):\\s', i) # lazy pattern match to first {user_name}: pattern and spliting it aka each msg from a user\n",
    "        if(a[1:]): # user typed messages\n",
    "            usernames.append(a[1])\n",
    "            msgs.append(a[2])\n",
    "        else: # other notifications in the group(eg: someone was added, some left ...)\n",
    "            usernames.append(\"Group Notification\")\n",
    "            msgs.append(a[0])\n",
    "\n",
    "    # creating new columns         \n",
    "    df['User'] = usernames\n",
    "    df['Message'] = msgs\n",
    "\n",
    "    # dropping the old user_msg col.\n",
    "    df.drop('user_msg', axis=1, inplace=True)\n",
    "    \n",
    "    df = df[[\"Message\", \"Date\", \"User\"]]\n",
    "    \n",
    "    df[\"Message\"] = df[\"Message\"].apply(lambda x: x.strip())\n",
    "    \n",
    "    # Extract the date without time\n",
    "    df['Only date'] = pd.to_datetime(df['Date']).dt.date\n",
    "\n",
    "    # Get only the Year\n",
    "    df['Year'] = pd.to_datetime(df['Date']).dt.year\n",
    "\n",
    "    # Get month number\n",
    "    df['Month_num'] = pd.to_datetime(df['Date']).dt.month\n",
    "\n",
    "    # Get name of month\n",
    "    df['Month'] = pd.to_datetime(df['Date']).dt.month_name()\n",
    "\n",
    "    # Get Day\n",
    "    df['Day'] = pd.to_datetime(df['Date']).dt.day\n",
    "\n",
    "    # Get name of Day\n",
    "    df['Day_name'] = pd.to_datetime(df['Date']).dt.day_name()\n",
    "\n",
    "    # Get hour\n",
    "    df['Hour'] = pd.to_datetime(df['Date']).dt.hour\n",
    "\n",
    "    # Get minutes\n",
    "    df['Minute'] = pd.to_datetime(df['Date']).dt.minute\n",
    "\n",
    "    \n",
    "    \n",
    "    return df"
   ]
  },
  {
   "cell_type": "code",
   "execution_count": 3,
   "id": "152fc5da",
   "metadata": {},
   "outputs": [
    {
     "data": {
      "text/html": [
       "<div>\n",
       "<style scoped>\n",
       "    .dataframe tbody tr th:only-of-type {\n",
       "        vertical-align: middle;\n",
       "    }\n",
       "\n",
       "    .dataframe tbody tr th {\n",
       "        vertical-align: top;\n",
       "    }\n",
       "\n",
       "    .dataframe thead th {\n",
       "        text-align: right;\n",
       "    }\n",
       "</style>\n",
       "<table border=\"1\" class=\"dataframe\">\n",
       "  <thead>\n",
       "    <tr style=\"text-align: right;\">\n",
       "      <th></th>\n",
       "      <th>Message</th>\n",
       "      <th>Date</th>\n",
       "      <th>User</th>\n",
       "      <th>Only date</th>\n",
       "      <th>Year</th>\n",
       "      <th>Month_num</th>\n",
       "      <th>Month</th>\n",
       "      <th>Day</th>\n",
       "      <th>Day_name</th>\n",
       "      <th>Hour</th>\n",
       "      <th>Minute</th>\n",
       "    </tr>\n",
       "  </thead>\n",
       "  <tbody>\n",
       "    <tr>\n",
       "      <th>0</th>\n",
       "      <td>Messages and calls are end-to-end encrypted. No one outside of this chat, not even WhatsApp, can...</td>\n",
       "      <td>2023-01-14 10:18:00</td>\n",
       "      <td>Group Notification</td>\n",
       "      <td>2023-01-14</td>\n",
       "      <td>2023</td>\n",
       "      <td>1</td>\n",
       "      <td>January</td>\n",
       "      <td>14</td>\n",
       "      <td>Saturday</td>\n",
       "      <td>10</td>\n",
       "      <td>18</td>\n",
       "    </tr>\n",
       "    <tr>\n",
       "      <th>1</th>\n",
       "      <td>Camry White created group \"M I AUTOS ABUJA\"</td>\n",
       "      <td>2022-09-21 08:34:00</td>\n",
       "      <td>Group Notification</td>\n",
       "      <td>2022-09-21</td>\n",
       "      <td>2022</td>\n",
       "      <td>9</td>\n",
       "      <td>September</td>\n",
       "      <td>21</td>\n",
       "      <td>Wednesday</td>\n",
       "      <td>8</td>\n",
       "      <td>34</td>\n",
       "    </tr>\n",
       "    <tr>\n",
       "      <th>2</th>\n",
       "      <td>Camry White added you</td>\n",
       "      <td>2023-01-14 10:18:00</td>\n",
       "      <td>Group Notification</td>\n",
       "      <td>2023-01-14</td>\n",
       "      <td>2023</td>\n",
       "      <td>1</td>\n",
       "      <td>January</td>\n",
       "      <td>14</td>\n",
       "      <td>Saturday</td>\n",
       "      <td>10</td>\n",
       "      <td>18</td>\n",
       "    </tr>\n",
       "    <tr>\n",
       "      <th>3</th>\n",
       "      <td>The message timer was updated. New messages will disappear from this chat 7 days after they're s...</td>\n",
       "      <td>2023-01-14 10:18:00</td>\n",
       "      <td>Group Notification</td>\n",
       "      <td>2023-01-14</td>\n",
       "      <td>2023</td>\n",
       "      <td>1</td>\n",
       "      <td>January</td>\n",
       "      <td>14</td>\n",
       "      <td>Saturday</td>\n",
       "      <td>10</td>\n",
       "      <td>18</td>\n",
       "    </tr>\n",
       "    <tr>\n",
       "      <th>4</th>\n",
       "      <td>Camry White added +234 806 709 4011</td>\n",
       "      <td>2023-01-14 10:27:00</td>\n",
       "      <td>Group Notification</td>\n",
       "      <td>2023-01-14</td>\n",
       "      <td>2023</td>\n",
       "      <td>1</td>\n",
       "      <td>January</td>\n",
       "      <td>14</td>\n",
       "      <td>Saturday</td>\n",
       "      <td>10</td>\n",
       "      <td>27</td>\n",
       "    </tr>\n",
       "  </tbody>\n",
       "</table>\n",
       "</div>"
      ],
      "text/plain": [
       "                                                                                               Message  \\\n",
       "0  Messages and calls are end-to-end encrypted. No one outside of this chat, not even WhatsApp, can...   \n",
       "1                                                          Camry White created group \"M I AUTOS ABUJA\"   \n",
       "2                                                                                Camry White added you   \n",
       "3  The message timer was updated. New messages will disappear from this chat 7 days after they're s...   \n",
       "4                                                                  Camry White added +234 806 709 4011   \n",
       "\n",
       "                 Date                User   Only date  Year  Month_num  \\\n",
       "0 2023-01-14 10:18:00  Group Notification  2023-01-14  2023          1   \n",
       "1 2022-09-21 08:34:00  Group Notification  2022-09-21  2022          9   \n",
       "2 2023-01-14 10:18:00  Group Notification  2023-01-14  2023          1   \n",
       "3 2023-01-14 10:18:00  Group Notification  2023-01-14  2023          1   \n",
       "4 2023-01-14 10:27:00  Group Notification  2023-01-14  2023          1   \n",
       "\n",
       "       Month  Day   Day_name  Hour  Minute  \n",
       "0    January   14   Saturday    10      18  \n",
       "1  September   21  Wednesday     8      34  \n",
       "2    January   14   Saturday    10      18  \n",
       "3    January   14   Saturday    10      18  \n",
       "4    January   14   Saturday    10      27  "
      ]
     },
     "execution_count": 3,
     "metadata": {},
     "output_type": "execute_result"
    }
   ],
   "source": [
    "df = rawToDf(\"whatsapp_chat_automobile.txt\", \"12hr\")\n",
    "df.head()"
   ]
  },
  {
   "cell_type": "code",
   "execution_count": null,
   "id": "eefba3b9",
   "metadata": {},
   "outputs": [],
   "source": []
  },
  {
   "cell_type": "code",
   "execution_count": 4,
   "id": "01d0a6c6",
   "metadata": {},
   "outputs": [],
   "source": [
    "# # import text data\n",
    "# f = open(\"whatsapp_chat_data.txt\", \"r\", encoding=\"utf-8\")\n",
    "\n",
    "# data = f.read()"
   ]
  },
  {
   "cell_type": "code",
   "execution_count": 5,
   "id": "cbba226c",
   "metadata": {},
   "outputs": [],
   "source": [
    "# dummy = data.split(\"\\n\")\n",
    "# dummy"
   ]
  },
  {
   "cell_type": "markdown",
   "id": "1bd38563",
   "metadata": {},
   "source": [
    "### Separate messages and date/time\n",
    "We want to ensure that every text entry has a date and time stamp in the specified example below:\n",
    "\n",
    "Example for dry run : `'16/08/18, 20:09 - '`\n",
    "\n",
    "\\d{1,2}/\\d{1,2}/\\d{2,4},\\s\\d{1,2}:\\d{2}\\s-\\s\n",
    "\n",
    "- the first part \"d{1,2}\" this means here we can have one or 2 digits\n",
    "- then after we have \"/\"\n",
    "- then after we have \"d{1,2}\" again,same we can have one or 2 digits\n",
    "- then after we have \"/\"\n",
    "- then after we have \"d{2,4}\" here we check for 2 or more digits\n",
    "- then a \",\"\n",
    "- then we have a space represented as \"\\s\"\n",
    "- then we have hour representation it can take either one or 2 digits \n",
    "- then we have a seperator \":\" \n",
    "\n",
    "and the pattern repeats so on.."
   ]
  },
  {
   "cell_type": "code",
   "execution_count": 6,
   "id": "410eb4d8",
   "metadata": {},
   "outputs": [],
   "source": [
    "# # regex pattern to track date and time\n",
    "# pattern = '\\d{1,2}/\\d{1,2}/\\d{2,4},\\s\\d{1,2}:\\d{2}\\s-\\s'\n",
    "\n",
    "# # Extract only the messages\n",
    "# messages = re.split(pattern, data)[1:]\n",
    "# print(len(messages))\n",
    "\n",
    "# # Extracting only the date/time\n",
    "# dates = re.findall(pattern, data)\n",
    "# print(len(dates))"
   ]
  },
  {
   "cell_type": "markdown",
   "id": "00611eb3",
   "metadata": {},
   "source": [
    "**Sample illustration**"
   ]
  },
  {
   "cell_type": "code",
   "execution_count": 7,
   "id": "55417967",
   "metadata": {},
   "outputs": [],
   "source": [
    "# # regex pattern to track date and time\n",
    "# pattern = '\\d{1,2}/\\d{1,2}/\\d{2,4},\\s\\d{1,2}:\\d{2}\\s-\\s'\n",
    "\n",
    "# text_data =  '8/25/22, 04:08 - Segun Lawal: Hello, please this video stopped playing at the 2:45 timestamp, only the audio was running'"
   ]
  },
  {
   "cell_type": "code",
   "execution_count": 8,
   "id": "1b6d170f",
   "metadata": {},
   "outputs": [],
   "source": [
    "# # Extract message\n",
    "# re.split(pattern, text_data)[1]"
   ]
  },
  {
   "cell_type": "code",
   "execution_count": 9,
   "id": "65b8c8a9",
   "metadata": {},
   "outputs": [],
   "source": [
    "# # Extracting only the dates\n",
    "# re.findall(pattern, text_data)[0]"
   ]
  },
  {
   "cell_type": "code",
   "execution_count": 10,
   "id": "f35bd812",
   "metadata": {},
   "outputs": [],
   "source": [
    "# messages[:5]"
   ]
  },
  {
   "cell_type": "code",
   "execution_count": 11,
   "id": "469d5905",
   "metadata": {},
   "outputs": [],
   "source": [
    "# dates[:5]"
   ]
  },
  {
   "cell_type": "markdown",
   "id": "b2126627",
   "metadata": {},
   "source": [
    "This is  a simple time string, we will apply the following transformation in order to get the date and the time for our analysis"
   ]
  },
  {
   "cell_type": "code",
   "execution_count": 12,
   "id": "c94aebfb",
   "metadata": {},
   "outputs": [],
   "source": [
    "# string = \"8/26/22, 20:09 - \"\n",
    "# string"
   ]
  },
  {
   "cell_type": "code",
   "execution_count": 13,
   "id": "0a068165",
   "metadata": {},
   "outputs": [],
   "source": [
    "# string = string.split(',')\n",
    "# string"
   ]
  },
  {
   "cell_type": "code",
   "execution_count": 14,
   "id": "8977502c",
   "metadata": {},
   "outputs": [],
   "source": [
    "# date,time = string[0],string[1]\n",
    "# date,time"
   ]
  },
  {
   "cell_type": "code",
   "execution_count": 15,
   "id": "23a7f5fc",
   "metadata": {},
   "outputs": [],
   "source": [
    "# time = time.split('-')\n",
    "# time = time[0].strip() # remove white spaces\n",
    "# time"
   ]
  },
  {
   "cell_type": "code",
   "execution_count": 16,
   "id": "5ef29976",
   "metadata": {},
   "outputs": [],
   "source": [
    "# print(date+ \" and \"+ time)"
   ]
  },
  {
   "cell_type": "markdown",
   "id": "0d861763",
   "metadata": {},
   "source": [
    "### Separate date and time\n",
    "We will create a function that separates the time from the date"
   ]
  },
  {
   "cell_type": "code",
   "execution_count": 17,
   "id": "f2b93a18",
   "metadata": {},
   "outputs": [],
   "source": [
    "# # This function separetes the time from the date\n",
    "# def get_date_and_time(string):\n",
    "#     string = string.split(\",\")\n",
    "#     date, time = string[0], string[1]\n",
    "#     time = time.split(\"-\")\n",
    "#     time = time[0].strip()\n",
    "    \n",
    "#     return date+\" \"+time "
   ]
  },
  {
   "cell_type": "markdown",
   "id": "3015c065",
   "metadata": {},
   "source": [
    "### Create a dataframe for messages and their corresponding time\n",
    "\n",
    "Now we have separated the messages and the time, let's create a dataframe with two columns for messages and date/time."
   ]
  },
  {
   "cell_type": "code",
   "execution_count": 18,
   "id": "90f1f119",
   "metadata": {
    "scrolled": true
   },
   "outputs": [],
   "source": [
    "# df = pd.DataFrame({\"user_messages\": messages, \n",
    "#                    \"message_date\": dates})\n",
    "\n",
    "# # Apply the function that separates the time from the date\n",
    "# df[\"message_date\"] = df[\"message_date\"].apply(lambda text: get_date_and_time(text))\n",
    "\n",
    "# df.head()"
   ]
  },
  {
   "cell_type": "code",
   "execution_count": 19,
   "id": "ea0b01df",
   "metadata": {},
   "outputs": [],
   "source": [
    "# # Let's rename the \"message_date\" solumn to \"date\"\n",
    "# df.rename(columns={\"message_date\": \"date\"}, inplace=True)\n",
    "\n",
    "# df.head()"
   ]
  },
  {
   "cell_type": "code",
   "execution_count": 20,
   "id": "4ff8e854",
   "metadata": {},
   "outputs": [],
   "source": [
    "# df[\"user_messages\"]"
   ]
  },
  {
   "cell_type": "markdown",
   "id": "d141e264",
   "metadata": {},
   "source": [
    "### Separating users name/numbers from users message\n",
    "If we observe the `user_messages` column, we find that the users name/number is attached with the user message. Therefore we need to get rid of this. For that we will use the concept of regular expression to separate the users name/number from the users message\n",
    "\n",
    "**Sample illustration**"
   ]
  },
  {
   "cell_type": "code",
   "execution_count": 21,
   "id": "01763afc",
   "metadata": {},
   "outputs": [],
   "source": [
    "# import random\n",
    "# txt = df[\"user_messages\"][random.randrange(0, len(df[\"user_messages\"]))]\n",
    "# txt"
   ]
  },
  {
   "cell_type": "code",
   "execution_count": 22,
   "id": "ee13bbe3",
   "metadata": {},
   "outputs": [],
   "source": [
    "# re.split('([\\w\\W]+?):\\s', txt)"
   ]
  },
  {
   "cell_type": "code",
   "execution_count": 23,
   "id": "e4ceaf98",
   "metadata": {},
   "outputs": [],
   "source": [
    "# # Separate users number/name from users message\n",
    "# users = []\n",
    "# messages = []\n",
    "\n",
    "# # loop through the \"user_messages\" column\n",
    "# for message in df[\"user_messages\"]:\n",
    "    \n",
    "#     # Split on the regex expression match.\"users name or number\"\n",
    "#     entry = re.split('([\\w\\W]+?):\\s', message)\n",
    "    \n",
    "#     # very this message has a name/number\n",
    "#     if entry[1:]:\n",
    "#         users.append(entry[1])\n",
    "#         messages.append(entry[2])\n",
    "        \n",
    "#     # else it is a \"Group Notification\"\n",
    "#     else:\n",
    "#         users.append(\"Group Notification\")\n",
    "#         messages.append(entry[0])\n",
    "\n",
    "# # add the users and messages to new columns in he dataframe      \n",
    "# df[\"User\"] = users\n",
    "# df[\"message\"] = messages\n",
    "\n",
    "# # remove the traling \"\\n\" and the end of each message\n",
    "# def get_string(text):\n",
    "#     return text.split(\"\\n\")[0]\n",
    "\n",
    "# df[\"message\"] = df[\"message\"].apply(lambda text: get_string(text))\n",
    "\n",
    "# df.head()"
   ]
  },
  {
   "cell_type": "code",
   "execution_count": 24,
   "id": "2d6d34b4",
   "metadata": {},
   "outputs": [],
   "source": [
    "# # Drop and rename columns\n",
    "# df = df.drop(columns=[\"user_messages\"])\n",
    "# df = df[[\"message\", \"date\", \"User\"]]\n",
    "# df = df.rename(columns={\"message\": \"Message\", \n",
    "#                    \"date\": \"Date\"})\n",
    "# df.head()"
   ]
  },
  {
   "cell_type": "code",
   "execution_count": 25,
   "id": "6a7b5b5d",
   "metadata": {},
   "outputs": [],
   "source": [
    "# df.head()"
   ]
  },
  {
   "cell_type": "code",
   "execution_count": 26,
   "id": "ca855886",
   "metadata": {},
   "outputs": [],
   "source": [
    "# # get the shape of the dataframe\n",
    "# df.shape"
   ]
  },
  {
   "cell_type": "markdown",
   "id": "38403fbf",
   "metadata": {},
   "source": [
    "### Breaking Down the \"Date\" Column\n",
    "\n",
    "Our dates are in the format\n",
    "\n",
    "`8/22/22 19:06`\n",
    "\n",
    "Which represents:\n",
    "    \n",
    "`MM-DD-YY`\n",
    "\n",
    "However, `pd.to_datetime()` will convert it to this format\n",
    "\n",
    "`YY-MM-DD`"
   ]
  },
  {
   "cell_type": "code",
   "execution_count": 27,
   "id": "5587bc37",
   "metadata": {},
   "outputs": [],
   "source": [
    "# # Extract the date without time\n",
    "# df['Only date'] = pd.to_datetime(df['Date']).dt.date\n",
    "\n",
    "# # Get only the Year\n",
    "# df['Year'] = pd.to_datetime(df['Date']).dt.year\n",
    "\n",
    "# # Get month number\n",
    "# df['Month_num'] = pd.to_datetime(df['Date']).dt.month\n",
    "\n",
    "# # Get name of month\n",
    "# df['Month'] = pd.to_datetime(df['Date']).dt.month_name()\n",
    "\n",
    "# # Get Day\n",
    "# df['Day'] = pd.to_datetime(df['Date']).dt.day\n",
    "\n",
    "# # Get name of Day\n",
    "# df['Day_name'] = pd.to_datetime(df['Date']).dt.day_name()\n",
    "\n",
    "# # Get hour\n",
    "# df['Hour'] = pd.to_datetime(df['Date']).dt.hour\n",
    "\n",
    "# # Get minutes\n",
    "# df['Minute'] = pd.to_datetime(df['Date']).dt.minute\n",
    "\n",
    "# # View dataframe head\n",
    "# df.head()"
   ]
  },
  {
   "cell_type": "markdown",
   "id": "3a56b3ad",
   "metadata": {},
   "source": [
    "We have successfully completed the `Text Preprocessing`. We will not proceed to `Text Analysis`\n",
    "\n",
    "\n",
    "## Data (Text) Analysis\n",
    "\n",
    "### Numerical Analysiy"
   ]
  },
  {
   "cell_type": "markdown",
   "id": "3fe9083f",
   "metadata": {},
   "source": [
    "**Total number of messages in the group**"
   ]
  },
  {
   "cell_type": "code",
   "execution_count": 28,
   "id": "f7401c61",
   "metadata": {},
   "outputs": [
    {
     "data": {
      "text/plain": [
       "18835"
      ]
     },
     "execution_count": 28,
     "metadata": {},
     "output_type": "execute_result"
    }
   ],
   "source": [
    "# Get total number of messsages in the group\n",
    "len(df[\"Message\"])"
   ]
  },
  {
   "cell_type": "markdown",
   "id": "bbd712ae",
   "metadata": {},
   "source": [
    "**Total number of words in the group**"
   ]
  },
  {
   "cell_type": "code",
   "execution_count": 29,
   "id": "08ebf816",
   "metadata": {},
   "outputs": [
    {
     "name": "stdout",
     "output_type": "stream",
     "text": [
      "106705\n"
     ]
    }
   ],
   "source": [
    "# Total number of words in the group chat\n",
    "words = []\n",
    "for message in df[\"Message\"]:\n",
    "    words.extend(message.split())\n",
    "    \n",
    "print(len(words))"
   ]
  },
  {
   "cell_type": "markdown",
   "id": "1ede8090",
   "metadata": {},
   "source": [
    "**Total number of media files shared in the group**"
   ]
  },
  {
   "cell_type": "code",
   "execution_count": 30,
   "id": "5545f9a2",
   "metadata": {},
   "outputs": [
    {
     "data": {
      "text/plain": [
       "'<Media omitted>'"
      ]
     },
     "execution_count": 30,
     "metadata": {},
     "output_type": "execute_result"
    }
   ],
   "source": [
    "df[\"Message\"][18830].strip()"
   ]
  },
  {
   "cell_type": "code",
   "execution_count": 31,
   "id": "a88f2f1c",
   "metadata": {},
   "outputs": [
    {
     "data": {
      "text/plain": [
       "14884"
      ]
     },
     "execution_count": 31,
     "metadata": {},
     "output_type": "execute_result"
    }
   ],
   "source": [
    "# Get number of media files shared in the group\n",
    "len(df[df[\"Message\"] == \"<Media omitted>\"])"
   ]
  },
  {
   "cell_type": "markdown",
   "id": "d51a32d0",
   "metadata": {},
   "source": [
    "**Total number of links in the group**"
   ]
  },
  {
   "cell_type": "code",
   "execution_count": null,
   "id": "a861cf3e",
   "metadata": {},
   "outputs": [],
   "source": [
    "# Get number of links in the group\n",
    "extract = URLExtract()\n",
    "\n",
    "links = []\n",
    "for message in df[\"Message\"]:\n",
    "    links.extend(extract.find_urls(message))\n",
    "    \n",
    "len(links)"
   ]
  },
  {
   "cell_type": "markdown",
   "id": "e5964701",
   "metadata": {},
   "source": [
    "**Most active users**"
   ]
  },
  {
   "cell_type": "code",
   "execution_count": null,
   "id": "65f76647",
   "metadata": {},
   "outputs": [],
   "source": [
    "# discard Group notifications\n",
    "active_users_df = df[df['User'] != 'Group Notification']\n",
    "active_users_df.head()"
   ]
  },
  {
   "cell_type": "code",
   "execution_count": null,
   "id": "e7a1f030",
   "metadata": {},
   "outputs": [],
   "source": [
    "# Avtive users and number of messages posted in the group\n",
    "pd.DataFrame(active_users_df[\"User\"].value_counts()).rename(columns={\"User\":\"posts\"})"
   ]
  },
  {
   "cell_type": "code",
   "execution_count": null,
   "id": "6c20e068",
   "metadata": {
    "scrolled": true
   },
   "outputs": [],
   "source": [
    "# Top 5 active users\n",
    "top_5_users = active_users_df[\"User\"].value_counts().head()\n",
    "top_5_users"
   ]
  },
  {
   "cell_type": "code",
   "execution_count": null,
   "id": "7fe991b2",
   "metadata": {},
   "outputs": [],
   "source": [
    "# Plot the bar chat of top 5 active users\n",
    "plt.figure(figsize=(10, 7))\n",
    "plt.bar(top_5_users.index, top_5_users.values)\n",
    "plt.xticks(rotation = 'vertical', fontsize=14)\n",
    "plt.yticks(fontsize=14)\n",
    "plt.title(\"Top 5 Active Users\", fontsize=18);"
   ]
  },
  {
   "cell_type": "markdown",
   "id": "304b872e",
   "metadata": {},
   "source": [
    "### Word Cloud"
   ]
  },
  {
   "cell_type": "code",
   "execution_count": null,
   "id": "721c8cf7",
   "metadata": {},
   "outputs": [],
   "source": [
    "# Get dataframe without \"<Media omitted>\"\n",
    "wc_df = df[df[\"Message\"] != \"<Media omitted>\"]\n",
    "wc_df.head()"
   ]
  },
  {
   "cell_type": "code",
   "execution_count": null,
   "id": "544859d3",
   "metadata": {},
   "outputs": [],
   "source": [
    "# create word cloud object\n",
    "wc = WordCloud(width=1000, height=500, min_font_size=10, \n",
    "              background_color=\"white\")\n",
    "\n",
    "# generate wordcloud image\n",
    "wc = wc.generate(wc_df[\"Message\"].str.cat(sep=\" \"))\n",
    "\n",
    "# plot word cloud\n",
    "plt.figure(figsize=(10, 7))\n",
    "plt.imshow(wc)\n",
    "plt.axis(\"off\");"
   ]
  },
  {
   "cell_type": "code",
   "execution_count": null,
   "id": "979d9255",
   "metadata": {},
   "outputs": [],
   "source": [
    "# create word cloud object\n",
    "wc = WordCloud(width=1000, height=500, min_font_size=10, \n",
    "              background_color=\"white\")\n",
    "\n",
    "# generate wordcloud image\n",
    "wc = wc.generate(wc_df[\"Message\"].str.cat(sep=\" \"))\n",
    "\n",
    "# plot word cloud\n",
    "fig, ax = plt.subplots(figsize=(10, 7))\n",
    "ax.imshow(wc)\n",
    "ax.axis(\"off\");"
   ]
  },
  {
   "cell_type": "markdown",
   "id": "7f2b8335",
   "metadata": {},
   "source": [
    "### Most Common Words"
   ]
  },
  {
   "cell_type": "code",
   "execution_count": null,
   "id": "556f9672",
   "metadata": {},
   "outputs": [],
   "source": [
    "# without \"<Media omitted>\" in meassages column\n",
    "wc_df"
   ]
  },
  {
   "cell_type": "code",
   "execution_count": null,
   "id": "ecc5e079",
   "metadata": {},
   "outputs": [],
   "source": [
    "# Clean text\n",
    "def clean_text(text):\n",
    "    # Remove punctuations \n",
    "    text = \"\".join([word.lower() for word in text if word not in punct])\n",
    "    \n",
    "    # Remove any other signs\n",
    "    text = \" \".join(re.split('\\W+', text))\n",
    "    \n",
    "    # Remove numerial leaving only aplabets\n",
    "    text = re.sub('[^A-Za-z]+', ' ', str(text))\n",
    "    \n",
    "    # Remove links and websites\n",
    "    text = re.sub(\"(http)\\S+\", \" \", str(text))\n",
    "    text = re.sub(\"(www)\\S+\", \" \", str(text))\n",
    "    \n",
    "    text = text.split()\n",
    "    \n",
    "    # Remove stopwords\n",
    "    text = [word for word in text if word not in stopwords]\n",
    "    \n",
    "    # lemmatize\n",
    "    text = [wn.lemmatize(word) for word in text]\n",
    "    \n",
    "    #\n",
    "    text = \" \".join([word for word in text])\n",
    "    \n",
    "    return text\n",
    "\n",
    "wc_df[\"clean_message\"] = wc_df[\"Message\"].apply(clean_text)\n",
    "wc_df.head()"
   ]
  },
  {
   "cell_type": "code",
   "execution_count": null,
   "id": "ec4e10c3",
   "metadata": {},
   "outputs": [],
   "source": [
    "# Get top 20 words\n",
    "\n",
    "words = []\n",
    "for message in wc_df[\"clean_message\"]:\n",
    "    words.extend(message.split())\n",
    "\n",
    "most_common = pd.DataFrame(Counter(words).most_common(20)).sort_values(1)\n",
    "most_common"
   ]
  },
  {
   "cell_type": "code",
   "execution_count": null,
   "id": "fcb85e70",
   "metadata": {},
   "outputs": [],
   "source": [
    "# Plot a graph of the most common words\n",
    "plt.figure(figsize=(10, 7))\n",
    "plt.barh(most_common[0], most_common[1])\n",
    "plt.xticks(rotation=\"vertical\")\n",
    "plt.title(\"Most Common Words\");"
   ]
  },
  {
   "cell_type": "markdown",
   "id": "3c5e58bc",
   "metadata": {},
   "source": [
    "### Number of Emojis"
   ]
  },
  {
   "cell_type": "code",
   "execution_count": null,
   "id": "aa6cebe7",
   "metadata": {},
   "outputs": [],
   "source": [
    "# extract all the emojis in the \"Message\" column\n",
    "emojis = []\n",
    "for message in df[\"Message\"]:\n",
    "    emojis.extend([c for c in message if c in emoji.EMOJI_DATA.keys()])\n",
    "\n",
    "    \n",
    "# Create and emoji dataframe\n",
    "emoji_df = pd.DataFrame(Counter(emojis).most_common())\n",
    "\n",
    "emoji_df"
   ]
  },
  {
   "cell_type": "code",
   "execution_count": null,
   "id": "96d5dc46",
   "metadata": {},
   "outputs": [],
   "source": [
    "# rename column\n",
    "emoji_df.columns = [\"Emoji\", \"Count\"]\n",
    "emoji_df"
   ]
  },
  {
   "cell_type": "code",
   "execution_count": null,
   "id": "1d5761d4",
   "metadata": {},
   "outputs": [],
   "source": [
    "# Create a percentage usage column\n",
    "emoji_count = list(emoji_df[\"Count\"])\n",
    "per_list = [(i/sum(emoji_count))*100 for i in emoji_count]\n",
    "emoji_df[\"Percentage use\"] = np.array(per_list).round(2)\n",
    "\n",
    "emoji_df"
   ]
  },
  {
   "cell_type": "markdown",
   "id": "30132edd",
   "metadata": {},
   "source": [
    "### Monthly Timeline \n",
    "\n",
    "We want the count of the messages per-month, therefore we will apply `.groupby()` method and adding `reset_index()` will get the result in a dataframe format.\n",
    "\n",
    "We will then add the `Year` and `Month` columns to get as an example `\"January-2018\"`. This is to enhance our analysis."
   ]
  },
  {
   "cell_type": "code",
   "execution_count": null,
   "id": "d5181025",
   "metadata": {},
   "outputs": [],
   "source": [
    "# Get monthly timeline\n",
    "\n",
    "monthly_df = df.groupby([\"Year\", \"Month_num\", \"Month\"]).count()[\"Message\"].reset_index()\n",
    "monthly_df"
   ]
  },
  {
   "cell_type": "code",
   "execution_count": null,
   "id": "cc439380",
   "metadata": {},
   "outputs": [],
   "source": [
    "monthly_timeline = []\n",
    "for i in range(monthly_df.shape[0]):\n",
    "    monthly_timeline.append(monthly_df[\"Month\"][i]+\"-\"+str(monthly_df[\"Year\"][i]))\n",
    "\n",
    "monthly_df[\"monthly_timeline\"] = monthly_timeline\n",
    "monthly_df"
   ]
  },
  {
   "cell_type": "code",
   "execution_count": null,
   "id": "79104f9c",
   "metadata": {},
   "outputs": [],
   "source": [
    "# Plot the monthy timeline of messages\n",
    "plt.figure(figsize=(10, 7))\n",
    "plt.plot(monthly_df[\"monthly_timeline\"], monthly_df[\"Message\"])\n",
    "plt.xticks(rotation=\"vertical\")\n",
    "plt.tight_layout();"
   ]
  },
  {
   "cell_type": "markdown",
   "id": "33e2c1f5",
   "metadata": {},
   "source": [
    "### Activity Map\n",
    "\n",
    "**Most Active Days**"
   ]
  },
  {
   "cell_type": "code",
   "execution_count": null,
   "id": "a6f21b46",
   "metadata": {},
   "outputs": [],
   "source": [
    "# Get a count of chats perday\n",
    "active_days = df[\"Day_name\"].value_counts()\n",
    "active_days"
   ]
  },
  {
   "cell_type": "code",
   "execution_count": null,
   "id": "b5b809b9",
   "metadata": {},
   "outputs": [],
   "source": [
    "# Plot the graph of messages per day\n",
    "plt.bar(active_days.index, active_days.values, color=\"purple\")\n",
    "plt.xticks(rotation=\"vertical\");"
   ]
  },
  {
   "cell_type": "markdown",
   "id": "f6748a8a",
   "metadata": {},
   "source": [
    "**Most Active Months**"
   ]
  },
  {
   "cell_type": "code",
   "execution_count": null,
   "id": "c099cf65",
   "metadata": {},
   "outputs": [],
   "source": [
    "active_months = df[\"Month\"].value_counts()\n",
    "active_months"
   ]
  },
  {
   "cell_type": "code",
   "execution_count": null,
   "id": "1ebced95",
   "metadata": {},
   "outputs": [],
   "source": [
    "# plot a graph of the most active months\n",
    "plt.bar(active_months.index, active_months.values, color=\"orange\")\n",
    "plt.xticks(rotation=\"vertical\");"
   ]
  },
  {
   "cell_type": "code",
   "execution_count": null,
   "id": "2266012d",
   "metadata": {},
   "outputs": [],
   "source": []
  }
 ],
 "metadata": {
  "kernelspec": {
   "display_name": "Python 3 (ipykernel)",
   "language": "python",
   "name": "python3"
  },
  "language_info": {
   "codemirror_mode": {
    "name": "ipython",
    "version": 3
   },
   "file_extension": ".py",
   "mimetype": "text/x-python",
   "name": "python",
   "nbconvert_exporter": "python",
   "pygments_lexer": "ipython3",
   "version": "3.10.8"
  }
 },
 "nbformat": 4,
 "nbformat_minor": 5
}
